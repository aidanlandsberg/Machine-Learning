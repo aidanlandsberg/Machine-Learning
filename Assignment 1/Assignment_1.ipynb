{
 "metadata": {
  "name": "",
  "signature": "sha256:ee71646fb92c43d9e7c90d668bc517af15bcff8d207735bb53ab16eec737338a"
 },
 "nbformat": 3,
 "nbformat_minor": 0,
 "worksheets": [
  {
   "cells": [
    {
     "cell_type": "heading",
     "level": 1,
     "metadata": {},
     "source": [
      "Computer Science 315 "
     ]
    },
    {
     "cell_type": "heading",
     "level": 1,
     "metadata": {},
     "source": [
      "Assignment 1\n"
     ]
    },
    {
     "cell_type": "heading",
     "level": 1,
     "metadata": {},
     "source": [
      "Dimensionality Reduction"
     ]
    },
    {
     "cell_type": "heading",
     "level": 1,
     "metadata": {},
     "source": [
      "19 February 2015"
     ]
    },
    {
     "cell_type": "heading",
     "level": 2,
     "metadata": {},
     "source": [
      "1. Introduction"
     ]
    },
    {
     "cell_type": "markdown",
     "metadata": {},
     "source": [
      "The following assignment aims to allow the student to implement the theoretical concepts regarding $\\textit{dimensionality reduction}$ to realistic data sets. The techniques, namely principal component analysis (PCA) and singular value decomposition (SVD), involve a pre-processing of the data in order to reduce the number of dimensions within the given data sets. The assignment at hand contains two individual sections: Firstly, the technique of PCA is to be impemented upon the $\\textit{iris}$ dataset - containing various instances of the iris data plant - as well as investigationg the $\\textit{eigenfaces}$ phenomenon. Secondly, the SVA techniques is required to be implemented in order to provide a standard signature verification model. For each of the forementioned sections, an investigation is to be undertaken to provide a better understanding regarding both the history as well as the theoretical basis required to implement the problem at hand. Each section will thus contain a set of brief theoretical predictions followed by the necessary practical results accompanied by the analysis thereof. Ultimately, sufficient conclusions are aimed to be obtianed to provide better explainations regarding the previously undertaken investigations.       "
     ]
    },
    {
     "cell_type": "heading",
     "level": 2,
     "metadata": {},
     "source": [
      "2. Investigation Part 1"
     ]
    },
    {
     "cell_type": "heading",
     "level": 3,
     "metadata": {},
     "source": [
      "2.1 Brief Description: PCA of the Iris Dataset"
     ]
    },
    {
     "cell_type": "markdown",
     "metadata": {},
     "source": [
      "The iris data set breifly, is a well known multivariate data set containing 150 instances of various iris plant species. Each of the aforementiond instances contain 4 individual attributes that alllow it too be differentiated from its counterparts. These attributes, namely the sepal lengths and widths as well as the petal lengths and widths serve as the features for observation.              "
     ]
    },
    {
     "cell_type": "markdown",
     "metadata": {},
     "source": []
    },
    {
     "cell_type": "code",
     "collapsed": false,
     "input": [
      "import numpy as np\n",
      "import scipy as sc\n",
      "from matplotlib import pylab as plt"
     ],
     "language": "python",
     "metadata": {},
     "outputs": [],
     "prompt_number": 3
    },
    {
     "cell_type": "code",
     "collapsed": false,
     "input": [
      "import "
     ],
     "language": "python",
     "metadata": {},
     "outputs": [],
     "prompt_number": 5
    },
    {
     "cell_type": "code",
     "collapsed": false,
     "input": [],
     "language": "python",
     "metadata": {},
     "outputs": []
    }
   ],
   "metadata": {}
  }
 ]
}